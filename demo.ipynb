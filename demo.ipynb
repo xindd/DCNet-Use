{
 "cells": [
  {
   "cell_type": "markdown",
   "metadata": {},
   "source": [
    "# DCNet \n",
    "Deconvolution network (DCNet), an \"explainable\" artificial neural network model was created to infer cell content from bulk RNA-Seq samples. It embeds the relationship between 434 cells and 9078 marker genes in a neural network,and uses a hidden layer to characterize the cell type and content.\n",
    "  "
   ]
  },
  {
   "cell_type": "markdown",
   "metadata": {},
   "source": [
    "# Publication\n",
    "  Wang, X., Wang, H., Liu, D., Wang, N., He, D., Wu, Z., Zhu, X., Wen, X., Li, X., Li, J., & Wang, Z. (2022). Deep learning using bulk RNA-seq data expands cell landscape identification in tumor microenvironment. Oncoimmunology, 11(1), 2043662. https://doi.org/10.1080/2162402X.2022.2043662\n",
    "  "
   ]
  },
  {
   "cell_type": "code",
   "execution_count": 1,
   "metadata": {},
   "outputs": [],
   "source": [
    "from DCNet.models import DCNetNoise\n",
    "from mxnet import nd\n",
    "import pickle"
   ]
  },
  {
   "cell_type": "code",
   "execution_count": 2,
   "metadata": {
    "pycharm": {
     "name": "#%%\n"
    }
   },
   "outputs": [],
   "source": [
    "# data path\n",
    "net_params = 'net_M434_adam_T600_DCNetBnoise-D1.params'\n",
    "relation_dir = 'relation_matrix.pkl'\n",
    "net_index_dir = 'index.pkl'\n",
    "demo_data_dir = 'demo_data.pkl'"
   ]
  },
  {
   "cell_type": "markdown",
   "metadata": {},
   "source": [
    "## 1.load data"
   ]
  },
  {
   "cell_type": "code",
   "execution_count": 3,
   "metadata": {},
   "outputs": [],
   "source": [
    "with open(relation_dir, 'rb') as f:\n",
    "    relation_data = pickle.load(f)\n",
    "with open(net_index_dir, 'rb') as f:\n",
    "    net_index = pickle.load(f)\n",
    "with open(demo_data_dir, 'rb') as f:\n",
    "    demo_data = pickle.load(f)\n",
    "ix, ox = net_index['input_ix'], net_index['output_ix'] \n",
    "input_data, output_data = demo_data['input_data'], demo_data['output_data']"
   ]
  },
  {
   "cell_type": "code",
   "execution_count": 4,
   "metadata": {},
   "outputs": [
    {
     "data": {
      "text/html": [
       "<div>\n",
       "<style scoped>\n",
       "    .dataframe tbody tr th:only-of-type {\n",
       "        vertical-align: middle;\n",
       "    }\n",
       "\n",
       "    .dataframe tbody tr th {\n",
       "        vertical-align: top;\n",
       "    }\n",
       "\n",
       "    .dataframe thead th {\n",
       "        text-align: right;\n",
       "    }\n",
       "</style>\n",
       "<table border=\"1\" class=\"dataframe\">\n",
       "  <thead>\n",
       "    <tr style=\"text-align: right;\">\n",
       "      <th>cellName</th>\n",
       "      <th>1-cell stage cell (Blastomere)</th>\n",
       "      <th>4-cell stage cell (Blastomere)</th>\n",
       "      <th>8-cell stage cell (Blastomere)</th>\n",
       "      <th>AXL+SIGLEC6+ dendritic cell</th>\n",
       "      <th>Abnormal plasma cell</th>\n",
       "    </tr>\n",
       "  </thead>\n",
       "  <tbody>\n",
       "    <tr>\n",
       "      <th>SUSD3</th>\n",
       "      <td>0</td>\n",
       "      <td>0</td>\n",
       "      <td>0</td>\n",
       "      <td>0</td>\n",
       "      <td>0</td>\n",
       "    </tr>\n",
       "    <tr>\n",
       "      <th>PTPRU</th>\n",
       "      <td>0</td>\n",
       "      <td>0</td>\n",
       "      <td>0</td>\n",
       "      <td>0</td>\n",
       "      <td>0</td>\n",
       "    </tr>\n",
       "    <tr>\n",
       "      <th>EPB41L5</th>\n",
       "      <td>0</td>\n",
       "      <td>0</td>\n",
       "      <td>0</td>\n",
       "      <td>0</td>\n",
       "      <td>0</td>\n",
       "    </tr>\n",
       "  </tbody>\n",
       "</table>\n",
       "</div>"
      ],
      "text/plain": [
       "cellName  1-cell stage cell (Blastomere)  4-cell stage cell (Blastomere)  \\\n",
       "SUSD3                                  0                               0   \n",
       "PTPRU                                  0                               0   \n",
       "EPB41L5                                0                               0   \n",
       "\n",
       "cellName  8-cell stage cell (Blastomere)  AXL+SIGLEC6+ dendritic cell  \\\n",
       "SUSD3                                  0                            0   \n",
       "PTPRU                                  0                            0   \n",
       "EPB41L5                                0                            0   \n",
       "\n",
       "cellName  Abnormal plasma cell  \n",
       "SUSD3                        0  \n",
       "PTPRU                        0  \n",
       "EPB41L5                      0  "
      ]
     },
     "execution_count": 4,
     "metadata": {},
     "output_type": "execute_result"
    }
   ],
   "source": [
    "relation_data.iloc[:3,:5]"
   ]
  },
  {
   "cell_type": "code",
   "execution_count": 5,
   "metadata": {},
   "outputs": [
    {
     "data": {
      "text/plain": [
       "((9078, 300), (21136, 300))"
      ]
     },
     "execution_count": 5,
     "metadata": {},
     "output_type": "execute_result"
    }
   ],
   "source": [
    "input_data.shape, output_data.shape"
   ]
  },
  {
   "cell_type": "code",
   "execution_count": 6,
   "metadata": {},
   "outputs": [
    {
     "data": {
      "text/html": [
       "<div>\n",
       "<style scoped>\n",
       "    .dataframe tbody tr th:only-of-type {\n",
       "        vertical-align: middle;\n",
       "    }\n",
       "\n",
       "    .dataframe tbody tr th {\n",
       "        vertical-align: top;\n",
       "    }\n",
       "\n",
       "    .dataframe thead th {\n",
       "        text-align: right;\n",
       "    }\n",
       "</style>\n",
       "<table border=\"1\" class=\"dataframe\">\n",
       "  <thead>\n",
       "    <tr style=\"text-align: right;\">\n",
       "      <th></th>\n",
       "      <th>TCGA-J8-A3YE-01A</th>\n",
       "      <th>TCGA-BJ-A28W-01A</th>\n",
       "      <th>TCGA-EL-A4K9-01A</th>\n",
       "      <th>TCGA-EL-A3ZQ-11A</th>\n",
       "      <th>TCGA-BJ-A290-11A</th>\n",
       "    </tr>\n",
       "    <tr>\n",
       "      <th>symbol</th>\n",
       "      <th></th>\n",
       "      <th></th>\n",
       "      <th></th>\n",
       "      <th></th>\n",
       "      <th></th>\n",
       "    </tr>\n",
       "  </thead>\n",
       "  <tbody>\n",
       "    <tr>\n",
       "      <th>SUSD3</th>\n",
       "      <td>1.137880</td>\n",
       "      <td>5.050436</td>\n",
       "      <td>2.955711</td>\n",
       "      <td>2.675482</td>\n",
       "      <td>2.255788</td>\n",
       "    </tr>\n",
       "    <tr>\n",
       "      <th>PTPRU</th>\n",
       "      <td>3.082525</td>\n",
       "      <td>1.026403</td>\n",
       "      <td>4.043567</td>\n",
       "      <td>2.126950</td>\n",
       "      <td>1.794364</td>\n",
       "    </tr>\n",
       "    <tr>\n",
       "      <th>EPB41L5</th>\n",
       "      <td>2.468575</td>\n",
       "      <td>1.195546</td>\n",
       "      <td>2.684971</td>\n",
       "      <td>3.616856</td>\n",
       "      <td>3.326271</td>\n",
       "    </tr>\n",
       "  </tbody>\n",
       "</table>\n",
       "</div>"
      ],
      "text/plain": [
       "         TCGA-J8-A3YE-01A  TCGA-BJ-A28W-01A  TCGA-EL-A4K9-01A  \\\n",
       "symbol                                                          \n",
       "SUSD3            1.137880          5.050436          2.955711   \n",
       "PTPRU            3.082525          1.026403          4.043567   \n",
       "EPB41L5          2.468575          1.195546          2.684971   \n",
       "\n",
       "         TCGA-EL-A3ZQ-11A  TCGA-BJ-A290-11A  \n",
       "symbol                                       \n",
       "SUSD3            2.675482          2.255788  \n",
       "PTPRU            2.126950          1.794364  \n",
       "EPB41L5          3.616856          3.326271  "
      ]
     },
     "execution_count": 6,
     "metadata": {},
     "output_type": "execute_result"
    }
   ],
   "source": [
    "input_data.iloc[:3,:5]"
   ]
  },
  {
   "cell_type": "markdown",
   "metadata": {},
   "source": [
    "## 2.build DCNetNoise"
   ]
  },
  {
   "cell_type": "code",
   "execution_count": 7,
   "metadata": {},
   "outputs": [],
   "source": [
    "new_net = DCNetNoise(relation_data, len(ox))\n",
    "# load net params\n",
    "new_net.load_parameters(net_params, ignore_extra=True)"
   ]
  },
  {
   "cell_type": "code",
   "execution_count": 8,
   "metadata": {},
   "outputs": [
    {
     "data": {
      "text/plain": [
       "DCNetNoise(\n",
       "  (noise): Dropout(p = 0.1, axes=())\n",
       "  (noise2): Dropout(p = 0.1, axes=())\n",
       "  (second_layer): Dense(434 -> 21136, Activation(relu))\n",
       ")"
      ]
     },
     "execution_count": 8,
     "metadata": {},
     "output_type": "execute_result"
    }
   ],
   "source": [
    "new_net"
   ]
  },
  {
   "cell_type": "markdown",
   "metadata": {
    "pycharm": {
     "name": "#%%\n"
    }
   },
   "source": [
    "## 3.prepare input data"
   ]
  },
  {
   "cell_type": "code",
   "execution_count": 9,
   "metadata": {},
   "outputs": [],
   "source": [
    "input_x = nd.array(input_data.T)"
   ]
  },
  {
   "cell_type": "markdown",
   "metadata": {},
   "source": [
    "## 4.get cell composition"
   ]
  },
  {
   "cell_type": "code",
   "execution_count": 10,
   "metadata": {},
   "outputs": [],
   "source": [
    "output_layer = new_net(input_x) # output data\n",
    "hidden_lyer = new_net.first_layer # hidden layer "
   ]
  },
  {
   "cell_type": "code",
   "execution_count": 11,
   "metadata": {},
   "outputs": [
    {
     "data": {
      "text/plain": [
       "\n",
       "[[1.314974  2.9761782 2.4938617 ... 2.3704214 3.073785  2.7683835]\n",
       " [4.8612986 1.2681603 1.4423915 ... 2.0779727 1.9108663 1.95399  ]\n",
       " [2.568192  3.5552864 2.3741684 ... 2.4342458 2.9890704 2.578523 ]\n",
       " ...\n",
       " [1.8957875 3.3026605 2.7838807 ... 2.5000536 3.3092744 2.7830944]\n",
       " [1.8859129 2.8363092 2.32481   ... 2.2632113 3.0720034 2.5531268]\n",
       " [1.657326  1.704664  3.708745  ... 2.5990603 3.7671075 3.478318 ]]\n",
       "<NDArray 300x21136 @cpu(0)>"
      ]
     },
     "execution_count": 11,
     "metadata": {},
     "output_type": "execute_result"
    }
   ],
   "source": [
    "output_layer"
   ]
  },
  {
   "cell_type": "code",
   "execution_count": 12,
   "metadata": {},
   "outputs": [
    {
     "data": {
      "image/png": "[encoded data removed]",
      "text/plain": [
       "<Figure size 432x288 with 1 Axes>"
      ]
     },
     "metadata": {
      "needs_background": "light"
     },
     "output_type": "display_data"
    }
   ],
   "source": [
    "import matplotlib.pyplot as plt\n",
    "plt.scatter(output_layer.asnumpy(), output_data.T.to_numpy(), s=0.1)\n",
    "plt.show()"
   ]
  },
  {
   "cell_type": "markdown",
   "metadata": {},
   "source": [
    "### get cell composition"
   ]
  },
  {
   "cell_type": "code",
   "execution_count": 13,
   "metadata": {},
   "outputs": [],
   "source": [
    "\n",
    "import pandas as pd\n",
    "cell_purity = hidden_lyer.asnumpy()\n",
    "cell_purity = pd.DataFrame(cell_purity, columns=relation_data.columns, index=input_data.columns)"
   ]
  },
  {
   "cell_type": "code",
   "execution_count": 14,
   "metadata": {},
   "outputs": [
    {
     "data": {
      "text/html": [
       "<div>\n",
       "<style scoped>\n",
       "    .dataframe tbody tr th:only-of-type {\n",
       "        vertical-align: middle;\n",
       "    }\n",
       "\n",
       "    .dataframe tbody tr th {\n",
       "        vertical-align: top;\n",
       "    }\n",
       "\n",
       "    .dataframe thead th {\n",
       "        text-align: right;\n",
       "    }\n",
       "</style>\n",
       "<table border=\"1\" class=\"dataframe\">\n",
       "  <thead>\n",
       "    <tr style=\"text-align: right;\">\n",
       "      <th>cellName</th>\n",
       "      <th>1-cell stage cell (Blastomere)</th>\n",
       "      <th>4-cell stage cell (Blastomere)</th>\n",
       "      <th>8-cell stage cell (Blastomere)</th>\n",
       "      <th>AXL+SIGLEC6+ dendritic cell</th>\n",
       "      <th>Abnormal plasma cell</th>\n",
       "      <th>Acinar cell</th>\n",
       "    </tr>\n",
       "  </thead>\n",
       "  <tbody>\n",
       "    <tr>\n",
       "      <th>TCGA-J8-A3YE-01A</th>\n",
       "      <td>0.000000</td>\n",
       "      <td>0.000000</td>\n",
       "      <td>0.631689</td>\n",
       "      <td>0.004752</td>\n",
       "      <td>0.468052</td>\n",
       "      <td>0.0</td>\n",
       "    </tr>\n",
       "    <tr>\n",
       "      <th>TCGA-BJ-A28W-01A</th>\n",
       "      <td>0.408473</td>\n",
       "      <td>0.000000</td>\n",
       "      <td>0.701050</td>\n",
       "      <td>0.172757</td>\n",
       "      <td>0.265118</td>\n",
       "      <td>0.0</td>\n",
       "    </tr>\n",
       "    <tr>\n",
       "      <th>TCGA-EL-A4K9-01A</th>\n",
       "      <td>0.000000</td>\n",
       "      <td>0.095825</td>\n",
       "      <td>0.590744</td>\n",
       "      <td>0.000000</td>\n",
       "      <td>0.378153</td>\n",
       "      <td>0.0</td>\n",
       "    </tr>\n",
       "  </tbody>\n",
       "</table>\n",
       "</div>"
      ],
      "text/plain": [
       "cellName          1-cell stage cell (Blastomere)  \\\n",
       "TCGA-J8-A3YE-01A                        0.000000   \n",
       "TCGA-BJ-A28W-01A                        0.408473   \n",
       "TCGA-EL-A4K9-01A                        0.000000   \n",
       "\n",
       "cellName          4-cell stage cell (Blastomere)  \\\n",
       "TCGA-J8-A3YE-01A                        0.000000   \n",
       "TCGA-BJ-A28W-01A                        0.000000   \n",
       "TCGA-EL-A4K9-01A                        0.095825   \n",
       "\n",
       "cellName          8-cell stage cell (Blastomere)  AXL+SIGLEC6+ dendritic cell  \\\n",
       "TCGA-J8-A3YE-01A                        0.631689                     0.004752   \n",
       "TCGA-BJ-A28W-01A                        0.701050                     0.172757   \n",
       "TCGA-EL-A4K9-01A                        0.590744                     0.000000   \n",
       "\n",
       "cellName          Abnormal plasma cell  Acinar cell  \n",
       "TCGA-J8-A3YE-01A              0.468052          0.0  \n",
       "TCGA-BJ-A28W-01A              0.265118          0.0  \n",
       "TCGA-EL-A4K9-01A              0.378153          0.0  "
      ]
     },
     "execution_count": 14,
     "metadata": {},
     "output_type": "execute_result"
    }
   ],
   "source": [
    "cell_purity.iloc[:3,:6]"
   ]
  },
  {
   "cell_type": "markdown",
   "metadata": {},
   "source": [
    "## 5. Fine train net"
   ]
  },
  {
   "cell_type": "code",
   "execution_count": 15,
   "metadata": {},
   "outputs": [],
   "source": [
    "from mxnet import nd, gluon\n",
    "from DCNet.dcutils import splitProfile\n",
    "from DCNet.dcutils import fineTrain"
   ]
  },
  {
   "cell_type": "markdown",
   "metadata": {},
   "source": [
    "prepare train data"
   ]
  },
  {
   "cell_type": "code",
   "execution_count": 16,
   "metadata": {},
   "outputs": [],
   "source": [
    "x, x_na = splitProfile(input_data, ix)\n",
    "y, y_na = splitProfile(output_data, ox)\n",
    "x = nd.array(x.T)\n",
    "y = nd.array(y.T)"
   ]
  },
  {
   "cell_type": "markdown",
   "metadata": {},
   "source": [
    "define train params"
   ]
  },
  {
   "cell_type": "code",
   "execution_count": 17,
   "metadata": {},
   "outputs": [],
   "source": [
    "trainer_1= gluon.Trainer(new_net.collect_params('.*weight_first'), 'adam', {'learning_rate': 1e-6, 'wd': 0})\n",
    "trainer_2 = gluon.Trainer(new_net.collect_params('dense.*'), 'adam', {'learning_rate': 1e-4, 'wd': 0})\n",
    "# trainer = gluon.Trainer(new_net.collect_params(), 'sgd', {'learning_rate': 1e-1, 'wd': 0})\n",
    "loss = gluon.loss.L2Loss()"
   ]
  },
  {
   "cell_type": "markdown",
   "metadata": {},
   "source": [
    "fine train net"
   ]
  },
  {
   "cell_type": "code",
   "execution_count": 18,
   "metadata": {},
   "outputs": [
    {
     "name": "stderr",
     "output_type": "stream",
     "text": [
      "fine train epochs: 100%|████████████████████████████████████████████████████████████████████████████████████████████████████████████████████████████████████████████████████████████████████████████████████████████████████████| 200/200 [01:10<00:00,  2.84it/s]\n"
     ]
    }
   ],
   "source": [
    "errors = fineTrain(new_net, (x, y, y_na), trainer_1, trainer_2, loss, epochs=200)"
   ]
  },
  {
   "cell_type": "code",
   "execution_count": 19,
   "metadata": {},
   "outputs": [
    {
     "data": {
      "image/png": "[encoded data removed]",
      "text/plain": [
       "<Figure size 432x288 with 1 Axes>"
      ]
     },
     "metadata": {
      "needs_background": "light"
     },
     "output_type": "display_data"
    }
   ],
   "source": [
    "errors = pd.DataFrame(errors)\n",
    "plt.plot(errors.iloc[:,1])\n",
    "plt.title('errors')\n",
    "plt.show()"
   ]
  },
  {
   "cell_type": "code",
   "execution_count": 20,
   "metadata": {},
   "outputs": [],
   "source": [
    "output_y_fine = new_net.output\n",
    "cell_purity_fine = new_net.first_layer"
   ]
  },
  {
   "cell_type": "code",
   "execution_count": 21,
   "metadata": {
    "scrolled": true
   },
   "outputs": [
    {
     "data": {
      "image/png": "[encoded data removed]",
      "text/plain": [
       "<Figure size 432x288 with 1 Axes>"
      ]
     },
     "metadata": {
      "needs_background": "light"
     },
     "output_type": "display_data"
    }
   ],
   "source": [
    "plt.scatter(output_y_fine.asnumpy(), output_data.T.to_numpy(), s=0.1)\n",
    "plt.show()"
   ]
  },
  {
   "cell_type": "markdown",
   "metadata": {},
   "source": [
    "# End!"
   ]
  }
 ],
 "metadata": {
  "kernelspec": {
   "display_name": "Python 3 (ipykernel)",
   "language": "python",
   "name": "python3"
  },
  "language_info": {
   "codemirror_mode": {
    "name": "ipython",
    "version": 3
   },
   "file_extension": ".py",
   "mimetype": "text/x-python",
   "name": "python",
   "nbconvert_exporter": "python",
   "pygments_lexer": "ipython3",
   "version": "3.9.7"
  }
 },
 "nbformat": 4,
 "nbformat_minor": 1
}
